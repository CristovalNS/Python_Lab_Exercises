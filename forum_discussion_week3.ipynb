{
 "cells": [
  {
   "cell_type": "code",
   "execution_count": 21,
   "id": "8ebbfb71",
   "metadata": {},
   "outputs": [
    {
     "name": "stdout",
     "output_type": "stream",
     "text": [
      "Enter the radius size of a circle in cm: 7\n",
      "The area of the circle is 154.0 cm\n"
     ]
    }
   ],
   "source": [
    "# 1. Write a Python program which accepts the radius of a circle from the user and compute the area\n",
    "\n",
    "radius = int(input(\"Enter the radius size of a circle in cm: \"))\n",
    "print(\"The area of the circle is\",22/7 * (radius ** 2), \"cm\")\n"
   ]
  },
  {
   "cell_type": "code",
   "execution_count": 8,
   "id": "7ae0f703",
   "metadata": {},
   "outputs": [
    {
     "name": "stdout",
     "output_type": "stream",
     "text": [
      "Enter your first name: Cristoval\n",
      "Enter your last name: Sasono\n",
      "Sasono Cristoval\n"
     ]
    }
   ],
   "source": [
    "# 2. Write a Python program which accepts the user's first and last name and print them in reverse order with \n",
    "# a space between them\n",
    "\n",
    "first_name = input(\"Enter your first name: \")\n",
    "last_name = input(\"Enter your last name: \")\n",
    "\n",
    "print(f\"{last_name} {first_name}\")\n"
   ]
  },
  {
   "cell_type": "code",
   "execution_count": 2,
   "id": "ee496b12",
   "metadata": {},
   "outputs": [
    {
     "name": "stdout",
     "output_type": "stream",
     "text": [
      "Red Black\n"
     ]
    }
   ],
   "source": [
    "# 3. Write a Python program to display the first and last colors from the following list:\n",
    "# color_list = [\"Red\",\"Green\",\"White\",\"Black\"]\n",
    "\n",
    "color_list = [\"Red\",\"Green\",\"White\",\"Black\"]\n",
    "print(color_list[0], color_list[3])\n"
   ]
  },
  {
   "cell_type": "code",
   "execution_count": 4,
   "id": "f5e99411",
   "metadata": {},
   "outputs": [
    {
     "name": "stdout",
     "output_type": "stream",
     "text": [
      "Enter a random integer: 3\n",
      "39\n"
     ]
    }
   ],
   "source": [
    "# 4. Write a Python program that accepts an integer (n) and computes the value of n+nn+nnn\n",
    "\n",
    "n = int(input(\"Enter a random integer: \"))\n",
    "print(n + (n ** 2) + (n ** 3))"
   ]
  },
  {
   "cell_type": "code",
   "execution_count": 7,
   "id": "3b8f0399",
   "metadata": {},
   "outputs": [
    {
     "name": "stdout",
     "output_type": "stream",
     "text": [
      "The volume of a sphere with the radius of 6 cm -> 905 cm\n"
     ]
    }
   ],
   "source": [
    "# 5. Write a Python program to get the volume of a sphere with radius 6.\n",
    "# The volume of the sphere is : V = 4/3 × π × r3 = π × d3/6\n",
    "\n",
    "r = 6\n",
    "v = 4/3 * 22/7 * (r ** 3)\n",
    "print(f\"The volume of a sphere with the radius of 6 cm -> {int(v)} cm\")"
   ]
  },
  {
   "cell_type": "code",
   "execution_count": 18,
   "id": "4743c8eb",
   "metadata": {},
   "outputs": [
    {
     "name": "stdout",
     "output_type": "stream",
     "text": [
      "Enter a random integer: 20\n",
      "9\n"
     ]
    }
   ],
   "source": [
    "# 6. Write a Python program to get the difference between a given number and 17, if the number is \n",
    "# greater than 17 return double the absolute difference.\n",
    "\n",
    "x = 17\n",
    "y = int(input(\"Enter a random integer: \"))\n",
    "\n",
    "if y <= x:\n",
    "    absol = y - x\n",
    "elif y > x:\n",
    "    absol = (y - x) ** 2\n",
    "\n",
    "print(abs(absol))"
   ]
  },
  {
   "cell_type": "code",
   "execution_count": 17,
   "id": "074d809b",
   "metadata": {},
   "outputs": [
    {
     "name": "stdout",
     "output_type": "stream",
     "text": [
      "Enter three integers [separated by a coma]: 3,3,3\n",
      "27\n"
     ]
    }
   ],
   "source": [
    "# 7. Write a Python program to calculate the sum of three given numbers, \n",
    "# if the values are equal then return thrice of their sum.\n",
    "\n",
    "x, y, z = eval(input(\"Enter three integers [separated by a coma]: \"))\n",
    "\n",
    "if x == y == z:\n",
    "    print((x + y + z) * 3)\n",
    "else:\n",
    "    print(x + y + z)\n"
   ]
  },
  {
   "cell_type": "code",
   "execution_count": 22,
   "id": "f182a094",
   "metadata": {},
   "outputs": [
    {
     "name": "stdout",
     "output_type": "stream",
     "text": [
      "Enter a random integer: 744\n",
      "744 is an even number.\n"
     ]
    }
   ],
   "source": [
    "# 8. Write a Python program to find whether a given number (accept from the user) is even or odd, \n",
    "# print out an appropriate message to the user.\n",
    "\n",
    "n = int(input(\"Enter a random integer: \"))\n",
    "m = n % 2\n",
    "\n",
    "if m == 0:\n",
    "    print(f\"{n} is an even number.\")\n",
    "elif m == 1:\n",
    "    print(f\"{n} is an odd number.\")\n",
    "else:\n",
    "    print(\"Error\")\n",
    "    "
   ]
  },
  {
   "cell_type": "code",
   "execution_count": 27,
   "id": "1bca9aa8",
   "metadata": {},
   "outputs": [
    {
     "name": "stdout",
     "output_type": "stream",
     "text": [
      "Enter a letter: v\n",
      "v is not a vowel\n"
     ]
    }
   ],
   "source": [
    "# 9. Write a Python program to test whether a letter is a vowel or not.\n",
    "\n",
    "vowel = [\"a\", \"i\", \"u\", \"e\", \"o\"]\n",
    "user_input = input(\"Enter a letter: \")\n",
    "\n",
    "if user_input.casefold() in vowel:\n",
    "    print(f\"{user_input} is a vowel\")\n",
    "else:\n",
    "    print(f\"{user_input} is not a vowel\")\n"
   ]
  },
  {
   "cell_type": "code",
   "execution_count": 26,
   "id": "5be0039c",
   "metadata": {},
   "outputs": [
    {
     "name": "stdout",
     "output_type": "stream",
     "text": [
      "Enter a number: 4\n",
      "The number you entered is in the list!\n"
     ]
    }
   ],
   "source": [
    "# 10. Write a Python program to check whether a specified value is contained in a group of values.\n",
    "import random\n",
    "\n",
    "num_array = []\n",
    "array_length = range(1, 11)\n",
    "\n",
    "for n in array_length:\n",
    "    rand_num = random.randint(1, 10)\n",
    "    if n != num_array:\n",
    "        num_array.append(rand_num)\n",
    "#print(num_array) #TODO: Comment after testing\n",
    "\n",
    "user_input = int(input(\"Enter a number: \"))\n",
    "flag = False\n",
    "for x in num_array:\n",
    "    if user_input == x:\n",
    "        flag = True\n",
    "\n",
    "if flag:\n",
    "    print(\"The number you entered is in the list!\")\n",
    "else:\n",
    "    print(\"The number is you entered is not in the list...\")\n",
    "\n"
   ]
  },
  {
   "cell_type": "code",
   "execution_count": 33,
   "id": "3ecfd411",
   "metadata": {},
   "outputs": [
    {
     "data": {
      "text/plain": [
       "(array([4., 5., 3., 3., 3., 2., 3., 1., 2., 3.]),\n",
       " array([ 0.,  3.,  6.,  9., 12., 15., 18., 21., 24., 27., 30.]),\n",
       " <BarContainer object of 10 artists>)"
      ]
     },
     "execution_count": 33,
     "metadata": {},
     "output_type": "execute_result"
    },
    {
     "data": {
      "image/png": "[encoded data removed]",
      "text/plain": [
       "<Figure size 640x480 with 1 Axes>"
      ]
     },
     "metadata": {},
     "output_type": "display_data"
    }
   ],
   "source": [
    "# 11. Write a Python program to create a histogram from a given list of integers.\n",
    "import matplotlib.pyplot as plot\n",
    "import random\n",
    "\n",
    "num_array = []\n",
    "array_length = range(1, 30)\n",
    "\n",
    "for n in array_length:\n",
    "    rand_num = random.randint(0, 30)\n",
    "    if n != num_array:\n",
    "        num_array.append(rand_num)\n",
    "\n",
    "plot.hist(num_array)"
   ]
  },
  {
   "cell_type": "code",
   "execution_count": 34,
   "id": "f0d9c5c2",
   "metadata": {},
   "outputs": [
    {
     "name": "stdout",
     "output_type": "stream",
     "text": [
      "386\n",
      "462\n",
      "418\n",
      "344\n",
      "236\n",
      "566\n",
      "978\n",
      "328\n",
      "162\n",
      "758\n",
      "918\n",
      "412\n",
      "566\n",
      "826\n",
      "248\n",
      "866\n",
      "950\n",
      "626\n",
      "104\n",
      "58\n",
      "512\n",
      "24\n",
      "892\n",
      "894\n",
      "742\n",
      "958\n"
     ]
    }
   ],
   "source": [
    "# 12. Write a Python program to print all even numbers from a given numbers list in the same order.\n",
    "\n",
    "numbers = [\n",
    "386, 462, 47, 418, 907, 344, 236, 375, 823, 566, \n",
    "597, 978, 328, 615, 953, 345, 399, 162, 758, 219, \n",
    "918, 237, 412, 566, 826, 248, 866, 950, 626, 949, \n",
    "687, 217, 815, 67, 104, 58, 512, 24, 892, 894, 767, \n",
    "553, 81, 379, 843, 831, 445, 742, 717, 958,743, 527 ]\n",
    "\n",
    "for n in numbers:\n",
    "    if n % 2 == 0:\n",
    "        print(n)"
   ]
  },
  {
   "cell_type": "code",
   "execution_count": 2,
   "id": "3838e847",
   "metadata": {},
   "outputs": [
    {
     "name": "stdout",
     "output_type": "stream",
     "text": [
      "Enter the length of the triangle's base in cm: 10\n",
      "Enter the height of the triangle in cm: 20\n",
      "The area of the triangle: 100 cm\n"
     ]
    }
   ],
   "source": [
    "# 13. Write a Python program that will accept the base and height of a triangle and compute the area.\n",
    "\n",
    "base = int(input(\"Enter the length of the triangle's base in cm: \"))\n",
    "height = int(input(\"Enter the height of the triangle in cm: \"))\n",
    "area = (height * base) // 2\n",
    "\n",
    "print(f\"The area of the triangle: {area} cm\")"
   ]
  },
  {
   "cell_type": "code",
   "execution_count": 23,
   "id": "9dd0f15d",
   "metadata": {},
   "outputs": [
    {
     "name": "stdout",
     "output_type": "stream",
     "text": [
      "Enter the first number: 5\n",
      "Enter the second number: 4\n",
      "The lcm is = 20\n"
     ]
    }
   ],
   "source": [
    "# 14. Write a Python program to get the least common multiple (LCM) of two positive integers.\n",
    "\n",
    "x = int(input(\"Enter the first number: \"))\n",
    "\n",
    "y = int(input(\"Enter the second number: \"))\n",
    "\n",
    "z = x * y\n",
    "\n",
    "for i in range(1, z + 1):\n",
    "    if(i %x == 0 and i % y == 0):\n",
    "        print(\"The lcm is =\", i)"
   ]
  },
  {
   "cell_type": "code",
   "execution_count": 5,
   "id": "21b5256d",
   "metadata": {},
   "outputs": [
    {
     "name": "stdout",
     "output_type": "stream",
     "text": [
      "Enter three integers [separated by a coma]: 3,5,3\n",
      "0\n"
     ]
    }
   ],
   "source": [
    "# 15. Write a Python program to sum of three given integers. However, if two values are equal sum will be zero.\n",
    "\n",
    "x, y, z = eval(input(\"Enter three integers [separated by a coma]: \"))\n",
    "\n",
    "if x == y or x == z or y == z:\n",
    "    print(\"0\")\n",
    "else:\n",
    "    print(x + y + z)"
   ]
  },
  {
   "cell_type": "code",
   "execution_count": 7,
   "id": "0eeae922",
   "metadata": {},
   "outputs": [
    {
     "name": "stdout",
     "output_type": "stream",
     "text": [
      "(4 + 3) ^ 2 = 49\n"
     ]
    }
   ],
   "source": [
    "# 16. Write a Python program to solve (x + y) * (x + y).\n",
    "\n",
    "x = 4\n",
    "y = 3\n",
    "\n",
    "result = (x + y) * (x + y)\n",
    "print(f\"({x} + {y}) ^ 2 = {result}\")"
   ]
  },
  {
   "cell_type": "code",
   "execution_count": 8,
   "id": "71e40c6f",
   "metadata": {},
   "outputs": [
    {
     "name": "stdout",
     "output_type": "stream",
     "text": [
      "12722.79\n"
     ]
    }
   ],
   "source": [
    "# 17. Write a Python program to compute the future value of a specified principal amount, \n",
    "# rate of interest, and a number of years.\n",
    "\n",
    "amt = 10000\n",
    "roi = 3.5\n",
    "years = 7\n",
    "\n",
    "future_value = amt * ((1 + (0.01 * roi)) ** years)\n",
    "print(round(future_value, 2))"
   ]
  },
  {
   "cell_type": "code",
   "execution_count": 13,
   "id": "0eb188be",
   "metadata": {},
   "outputs": [
    {
     "name": "stdout",
     "output_type": "stream",
     "text": [
      "Enter x1, y1 [separated by a coma]: 1,5\n",
      "Enter x2, y2 [separated by a coma]: 5,1\n",
      "The distance between point (1,5) and (5,1) is  5.656854249492381\n"
     ]
    }
   ],
   "source": [
    "# 18. Write a Python program to compute the distance between the points (x1, y1) and (x2, y2).\n",
    "import math\n",
    "\n",
    "x1, y1, = eval(input(\"Enter x1, y1 [separated by a coma]: \"))\n",
    "x2, y2, = eval(input(\"Enter x2, y2 [separated by a coma]: \"))\n",
    "a = [x1, y1]\n",
    "b = [x2, y2]\n",
    "\n",
    "print(f\"The distance between point ({x1},{y1}) and ({x2},{y2}) is \", math.dist(a, b))\n",
    "\n",
    "\n",
    "\n"
   ]
  },
  {
   "cell_type": "code",
   "execution_count": 13,
   "id": "744cc649",
   "metadata": {},
   "outputs": [
    {
     "name": "stdout",
     "output_type": "stream",
     "text": [
      "Input a number: 10\n",
      "The sum of the first 10 positive integers is 55\n"
     ]
    }
   ],
   "source": [
    "# 19. Write a python program to sum of the first n positive integers.\n",
    "\n",
    "n = int(input(\"Input a number: \"))\n",
    "sum_result = (n * (n + 1)) / 2\n",
    "print(\"The sum of the first\", n ,\"positive integers is\", int(sum_result))"
   ]
  },
  {
   "cell_type": "code",
   "execution_count": 19,
   "id": "b5057059",
   "metadata": {},
   "outputs": [
    {
     "name": "stdout",
     "output_type": "stream",
     "text": [
      "Enter your height in feet: 5.5\n",
      "Enter your height in inches:66.5\n",
      "Your height from feet to cm: 167.64000000000001\n",
      "Your height from inch to cm: 168.91\n"
     ]
    }
   ],
   "source": [
    "# 20. Write a Python program to convert height (in feet and inches) to centimeters.\n",
    "\n",
    "user_height_feet = input(\"Enter your height in feet: \")\n",
    "user_height_inch = input(\"Enter your height in inches:\")\n",
    "\n",
    "feet_to_cm = float(user_height_feet) * 30.48\n",
    "inch_to_cm = float(user_height_inch) * 2.54\n",
    "\n",
    "print(f\"Your height from feet to cm: {feet_to_cm}\")\n",
    "print(f\"Your height from inch to cm: {inch_to_cm}\")\n",
    "\n"
   ]
  },
  {
   "cell_type": "code",
   "execution_count": 5,
   "id": "b33e314b",
   "metadata": {},
   "outputs": [
    {
     "name": "stdout",
     "output_type": "stream",
     "text": [
      "Input the height of the triangle in cm: 4\n",
      "Enter the length of the base of the triangle in cm: 3\n",
      "The hypotenuse of the triangle is: 5 cm\n"
     ]
    }
   ],
   "source": [
    "# 21. Write a Python program to calculate the hypotenuse of a right angled triangle.\n",
    "import math\n",
    "\n",
    "height = int(input(\"Input the height of the triangle in cm: \"))\n",
    "base = int(input(\"Enter the length of the base of the triangle in cm: \"))\n",
    "\n",
    "print(\"The hypotenuse of the triangle is:\", int(math.sqrt((height ** 2) + (base ** 2))), \"cm\")"
   ]
  },
  {
   "cell_type": "code",
   "execution_count": 16,
   "id": "2906bd18",
   "metadata": {},
   "outputs": [
    {
     "name": "stdout",
     "output_type": "stream",
     "text": [
      "Input your weight in kg: 65\n",
      "Input your height in m: 169\n",
      "Your body max index is 22.758306781975424\n"
     ]
    }
   ],
   "source": [
    "# 22. Write a Python program to calculate body mass index.\n",
    "\n",
    "weight = int(input(\"Input your weight in kg: \"))\n",
    "height = int(input(\"Input your height in m: \"))\n",
    "bmi = weight / (height/100)**2\n",
    "\n",
    "print(\"Your body max index is\", bmi)"
   ]
  },
  {
   "cell_type": "code",
   "execution_count": 8,
   "id": "55def1e4",
   "metadata": {},
   "outputs": [
    {
     "name": "stdout",
     "output_type": "stream",
     "text": [
      "Enter x1, y1 [separated by a coma]: 1,5\n",
      "Enter x2, y2 [separated by a coma]: 5,1\n",
      "The midpoints of the line made by (1,5) and (5,1) is  (3, 5)\n"
     ]
    }
   ],
   "source": [
    "# 23. Write a Python program to calculate midpoints of a line.\n",
    "\n",
    "x1, y1, = eval(input(\"Enter x1, y1 [separated by a coma]: \"))\n",
    "x2, y2, = eval(input(\"Enter x2, y2 [separated by a coma]: \"))\n",
    "a = [x1, y1]\n",
    "b = [x2, y2]\n",
    "midpoint = ((x1 + x2 // 2),(y1 + y2 // 2))\n",
    "\n",
    "print(f\"The midpoints of the line made by ({x1},{y1}) and ({x2},{y2}) is \", midpoint)\n",
    "\n",
    "\n"
   ]
  },
  {
   "cell_type": "code",
   "execution_count": 11,
   "id": "f575be86",
   "metadata": {},
   "outputs": [
    {
     "name": "stdout",
     "output_type": "stream",
     "text": [
      "2002,2009,2016,2023,2037,2044,2051,2058,2072,2079,2086,2093,2107,2114,2121,2128,2142,2149,2156,2163,2177,2184,2191,2198,2212,2219,2226,2233,2247,2254,2261,2268,2282,2289,2296,2303,2317,2324,2331,2338,2352,2359,2366,2373,2387,2394,2401,2408,2422,2429,2436,2443,2457,2464,2471,2478,2492,2499,2506,2513,2527,2534,2541,2548,2562,2569,2576,2583,2597,2604,2611,2618,2632,2639,2646,2653,2667,2674,2681,2688,2702,2709,2716,2723,2737,2744,2751,2758,2772,2779,2786,2793,2807,2814,2821,2828,2842,2849,2856,2863,2877,2884,2891,2898,2912,2919,2926,2933,2947,2954,2961,2968,2982,2989,2996,3003,3017,3024,3031,3038,3052,3059,3066,3073,3087,3094,3101,3108,3122,3129,3136,3143,3157,3164,3171,3178,3192,3199,"
     ]
    }
   ],
   "source": [
    "# 24. Write a program which will find all such numbers which are divisible by 7 but are not a multiple of 5, \n",
    "# between 2000 and 3200 (both included). The numbers obtained should be printed in a \n",
    "# comma-separated sequence on a single line.\n",
    "# Hints:\n",
    "# Consider use range(#begin, #end) method\n",
    "\n",
    "for n in range(2000, 3201):\n",
    "    if n % 7 == 0 and not n % 5 == 0:\n",
    "        print(n, end=\",\")"
   ]
  }
 ],
 "metadata": {
  "kernelspec": {
   "display_name": "Python 3 (ipykernel)",
   "language": "python",
   "name": "python3"
  },
  "language_info": {
   "codemirror_mode": {
    "name": "ipython",
    "version": 3
   },
   "file_extension": ".py",
   "mimetype": "text/x-python",
   "name": "python",
   "nbconvert_exporter": "python",
   "pygments_lexer": "ipython3",
   "version": "3.10.4"
  }
 },
 "nbformat": 4,
 "nbformat_minor": 5
}
